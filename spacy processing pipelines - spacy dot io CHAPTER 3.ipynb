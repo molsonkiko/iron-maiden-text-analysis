{
 "cells": [
  {
   "cell_type": "code",
   "execution_count": 1,
   "id": "048b1439",
   "metadata": {},
   "outputs": [],
   "source": [
    "import spacy\n",
    "from spacy.language import Language\n",
    "from spacy.matcher import PhraseMatcher\n",
    "from spacy.tokens import Doc, Span, Token\n",
    "from spacy import displacy"
   ]
  },
  {
   "cell_type": "code",
   "execution_count": 2,
   "id": "858ac27c",
   "metadata": {},
   "outputs": [
    {
     "data": {
      "text/plain": [
       "[]"
      ]
     },
     "execution_count": 2,
     "metadata": {},
     "output_type": "execute_result"
    }
   ],
   "source": [
    "nlp = spacy.blank('en')\n",
    "# a blank has no pipeline, just a tokenizer\n",
    "nlp.pipeline"
   ]
  },
  {
   "cell_type": "code",
   "execution_count": 3,
   "id": "e88d79ea",
   "metadata": {},
   "outputs": [
    {
     "data": {
      "text/plain": [
       "[('tok2vec', <spacy.pipeline.tok2vec.Tok2Vec at 0x221d19c0ca0>),\n",
       " ('tagger', <spacy.pipeline.tagger.Tagger at 0x221d15436a0>),\n",
       " ('parser', <spacy.pipeline.dep_parser.DependencyParser at 0x221d0e72040>),\n",
       " ('attribute_ruler',\n",
       "  <spacy.pipeline.attributeruler.AttributeRuler at 0x221d14e5480>),\n",
       " ('lemmatizer', <spacy.lang.en.lemmatizer.EnglishLemmatizer at 0x221d1b5c040>),\n",
       " ('ner', <spacy.pipeline.ner.EntityRecognizer at 0x221d0df7eb0>)]"
      ]
     },
     "execution_count": 3,
     "metadata": {},
     "output_type": "execute_result"
    }
   ],
   "source": [
    "nlp = spacy.load('en_core_web_md')\n",
    "nlp.pipeline"
   ]
  },
  {
   "cell_type": "code",
   "execution_count": 4,
   "id": "242545c5",
   "metadata": {},
   "outputs": [],
   "source": [
    "p_matcher = PhraseMatcher(nlp.vocab)"
   ]
  },
  {
   "cell_type": "code",
   "execution_count": 5,
   "id": "f35dc577",
   "metadata": {},
   "outputs": [],
   "source": [
    "# nlp.pipe(itbl) converts everything in itbl to a Doc with model nlp.\n",
    "# It is much faster than [nlp(text) for text in MANY_TEXTS]\n",
    "caffeine = nlp.pipe([\n",
    "    'coffee',\n",
    "    'tea',\n",
    "    'cola',\n",
    "    'energy drinks',\n",
    "    'Cola',\n",
    "    'caffeine'\n",
    "])\n",
    "\n",
    "p_matcher.add('CAFFEINE', caffeine)"
   ]
  },
  {
   "cell_type": "markdown",
   "id": "fdbd9983",
   "metadata": {},
   "source": [
    "## Custom pipelines"
   ]
  },
  {
   "cell_type": "code",
   "execution_count": 6,
   "id": "5c03ad0d",
   "metadata": {},
   "outputs": [
    {
     "data": {
      "text/plain": [
       "<function __main__.caffeinator(doc)>"
      ]
     },
     "execution_count": 6,
     "metadata": {},
     "output_type": "execute_result"
    }
   ],
   "source": [
    "# add a pipeline that matches caffeinated beverages and adds those\n",
    "# entities to the entity list\n",
    "@Language.component('caffeinator')\n",
    "def caffeinator(doc):\n",
    "    caffs = p_matcher(doc)\n",
    "    mtchs = [Span(doc, start, end, 'CAFFEINE')\n",
    "             for (m_id, start, end) in caffs]\n",
    "    doc.ents = list(doc.ents) + mtchs\n",
    "    return doc\n",
    "\n",
    "nlp.add_pipe('caffeinator')"
   ]
  },
  {
   "cell_type": "code",
   "execution_count": 7,
   "id": "19febca2",
   "metadata": {},
   "outputs": [
    {
     "name": "stdout",
     "output_type": "stream",
     "text": [
      "[E1010] Unable to set entity information for token 10 which is included in more than one span in entities, blocked, missing or outside.\n"
     ]
    }
   ],
   "source": [
    "try:\n",
    "    doc = nlp('I love drinking coffee and tea, but Coca-Cola is too fizzy. '\n",
    "         'Energy drinks just make me loopy - too much caffeine!')\n",
    "    displacy.render(doc, style='ent')\n",
    "except Exception as ex:\n",
    "    print(ex)"
   ]
  },
  {
   "cell_type": "markdown",
   "id": "369da7df",
   "metadata": {},
   "source": [
    "Because the \"Cola\" in \"Coca-Cola\" was already tagged as being part of an \"ORG\" entity, we get an error"
   ]
  },
  {
   "cell_type": "code",
   "execution_count": 8,
   "id": "6b621448",
   "metadata": {},
   "outputs": [
    {
     "data": {
      "text/plain": [
       "<function __main__.caffeinator(doc)>"
      ]
     },
     "execution_count": 8,
     "metadata": {},
     "output_type": "execute_result"
    }
   ],
   "source": [
    "nlp.remove_pipe('caffeinator')\n",
    "# add the pipe before the tagger so there aren't any conflicts\n",
    "nlp.add_pipe('caffeinator', before='tagger')\n",
    "# other optional args for add_pipe include \"first\", \"last\", and \"after\""
   ]
  },
  {
   "cell_type": "code",
   "execution_count": 9,
   "id": "21d0a28e",
   "metadata": {},
   "outputs": [
    {
     "data": {
      "text/html": [
       "<span class=\"tex2jax_ignore\"><div class=\"entities\" style=\"line-height: 2.5; direction: ltr\">I love drinking \n",
       "<mark class=\"entity\" style=\"background: #ddd; padding: 0.45em 0.6em; margin: 0 0.25em; line-height: 1; border-radius: 0.35em;\">\n",
       "    coffee\n",
       "    <span style=\"font-size: 0.8em; font-weight: bold; line-height: 1; border-radius: 0.35em; vertical-align: middle; margin-left: 0.5rem\">CAFFEINE</span>\n",
       "</mark>\n",
       " and \n",
       "<mark class=\"entity\" style=\"background: #ddd; padding: 0.45em 0.6em; margin: 0 0.25em; line-height: 1; border-radius: 0.35em;\">\n",
       "    tea\n",
       "    <span style=\"font-size: 0.8em; font-weight: bold; line-height: 1; border-radius: 0.35em; vertical-align: middle; margin-left: 0.5rem\">CAFFEINE</span>\n",
       "</mark>\n",
       ", but \n",
       "<mark class=\"entity\" style=\"background: #7aecec; padding: 0.45em 0.6em; margin: 0 0.25em; line-height: 1; border-radius: 0.35em;\">\n",
       "    Coca-\n",
       "    <span style=\"font-size: 0.8em; font-weight: bold; line-height: 1; border-radius: 0.35em; vertical-align: middle; margin-left: 0.5rem\">ORG</span>\n",
       "</mark>\n",
       "\n",
       "<mark class=\"entity\" style=\"background: #ddd; padding: 0.45em 0.6em; margin: 0 0.25em; line-height: 1; border-radius: 0.35em;\">\n",
       "    Cola\n",
       "    <span style=\"font-size: 0.8em; font-weight: bold; line-height: 1; border-radius: 0.35em; vertical-align: middle; margin-left: 0.5rem\">CAFFEINE</span>\n",
       "</mark>\n",
       " is too fizzy. Energy drinks just make me loopy - too much \n",
       "<mark class=\"entity\" style=\"background: #ddd; padding: 0.45em 0.6em; margin: 0 0.25em; line-height: 1; border-radius: 0.35em;\">\n",
       "    caffeine\n",
       "    <span style=\"font-size: 0.8em; font-weight: bold; line-height: 1; border-radius: 0.35em; vertical-align: middle; margin-left: 0.5rem\">CAFFEINE</span>\n",
       "</mark>\n",
       "!</div></span>"
      ],
      "text/plain": [
       "<IPython.core.display.HTML object>"
      ]
     },
     "metadata": {},
     "output_type": "display_data"
    }
   ],
   "source": [
    "caff = nlp('I love drinking coffee and tea, but Coca-Cola is too fizzy. '\n",
    "         'Energy drinks just make me loopy - too much caffeine!')\n",
    "displacy.render(caff, style='ent')"
   ]
  },
  {
   "cell_type": "markdown",
   "id": "37b8262a",
   "metadata": {},
   "source": [
    "Note that we still miss \"Energy drinks\", because the PhraseMatcher is case-sensitive in its matches and we only specified \"energy drinks\" in our matches."
   ]
  },
  {
   "cell_type": "markdown",
   "id": "aae86a47",
   "metadata": {},
   "source": [
    "## set_extension method for custom metadata"
   ]
  },
  {
   "cell_type": "code",
   "execution_count": 10,
   "id": "c80b6e5a",
   "metadata": {},
   "outputs": [
    {
     "data": {
      "text/plain": [
       "<function __main__.emotionizer(doc)>"
      ]
     },
     "execution_count": 10,
     "metadata": {},
     "output_type": "execute_result"
    }
   ],
   "source": [
    "emotions = {\n",
    "    'happy',\n",
    "    'sad',\n",
    "    'angry',\n",
    "    'bored',\n",
    "    'silly',\n",
    "}\n",
    "# the \"force\" argument means overwrite the existing attribute\n",
    "# don't do this unless you're sure you want to!\n",
    "Token.set_extension('emotion', default=None, force=True)\n",
    "\n",
    "@Language.component('emotionizer')\n",
    "def emotionizer(doc):\n",
    "    # tag_ == 'NN' includes noun types, proper and non-proper\n",
    "    # tag == 'PRP' includes personal pronouns (I, he, she, it)\n",
    "    nouns = {tok.i: tok for tok in doc \n",
    "             if tok.tag_[:2] == 'NN' or tok.tag_ == 'PRP'}\n",
    "    # we want all adjectives to match the adjectives in emotions\n",
    "    # even if the case doesn't match. Matching the lemma to emotions\n",
    "    # is a good way to do that\n",
    "    emotion_adjectives = {tok.i: tok for tok in doc if tok.tag_ == 'JJ'\n",
    "                           and tok.lemma_ in emotions\n",
    "                         }\n",
    "    for ii, adj in emotion_adjectives.items():\n",
    "        doc[ii]._.emotion = adj.lemma_\n",
    "        # assume that a noun N with the same syntactic governor\n",
    "        # as an adjective J is modified by J.\n",
    "        # that covers constructions like \"Mark is sad\"\n",
    "        # but it doesn't cover constructions like \"angry dog\"\n",
    "        for jj in range(ii + 1, len(doc)):\n",
    "            tok = doc[jj]\n",
    "            if tok.tag_[:2] == 'CC' or tok.pos_ == 'PUNCT':\n",
    "                break\n",
    "            # the next noun after an adjective is probably modified\n",
    "            # by that adjective, even if there are intervening words\n",
    "            # but not if there is a coordinating conjunction or\n",
    "            # punctuation between the adjective and the next noun\n",
    "            # so in, \"the angry lazy dog\", the dog's emotion is \"angry\"\n",
    "            # but in \"the man is angry and the dog is hungry\",\n",
    "            # the dog's emotion is hungry, not stupid\n",
    "            if jj in nouns:\n",
    "                doc[jj]._.emotion = adj.lemma_\n",
    "                break\n",
    "    \n",
    "    for ii, noun in nouns.items():\n",
    "        for adj in emotion_adjectives.values():\n",
    "            if noun.head.i == adj.head.i:\n",
    "                doc[ii]._.emotion = adj.text\n",
    "    \n",
    "    return doc\n",
    "\n",
    "nlp.add_pipe('emotionizer', last=True)"
   ]
  },
  {
   "cell_type": "code",
   "execution_count": 11,
   "id": "8d1961d8",
   "metadata": {},
   "outputs": [
    {
     "name": "stdout",
     "output_type": "stream",
     "text": [
      "Angry angry dog\n",
      "lazy None dog\n",
      "dog angry boats\n",
      "boats None bark\n",
      "bark None bark\n",
      "because None feel\n",
      "I sad feel\n",
      "feel None bark\n",
      "sad sad feel\n",
      "and None feel\n",
      "Mom bored is\n",
      "is None feel\n",
      "bored bored is\n",
      ". None bark\n",
      "Rain None falling\n",
      "is None falling\n",
      "falling None falling\n",
      "stupidly None falling\n",
      ". None falling\n"
     ]
    }
   ],
   "source": [
    "emot = nlp(\"Angry lazy dog boats bark because I feel sad \"\n",
    "          \"and Mom is bored. Rain is falling stupidly.\")\n",
    "for tok in emot:\n",
    "    print(tok.text, tok._.emotion, tok.head.text)"
   ]
  },
  {
   "cell_type": "markdown",
   "id": "42b2350e",
   "metadata": {},
   "source": [
    "Above we see that \"boats\" in the \"dog boats\" is not modified by \"angry\" because my emotionizer is imperfect.\n",
    "Ideally our emotionizer would also tag verbs with an emotion if they were modified by an adverb that was emotional."
   ]
  },
  {
   "cell_type": "code",
   "execution_count": 12,
   "id": "37082d2e",
   "metadata": {},
   "outputs": [
    {
     "data": {
      "text/html": [
       "<span class=\"tex2jax_ignore\"><svg xmlns=\"http://www.w3.org/2000/svg\" xmlns:xlink=\"http://www.w3.org/1999/xlink\" xml:lang=\"en\" id=\"450c76c450704b139a756e7a2dfdfb4b-0\" class=\"displacy\" width=\"3025\" height=\"399.5\" direction=\"ltr\" style=\"max-width: none; height: 399.5px; color: #000000; background: #ffffff; font-family: Arial; direction: ltr\">\n",
       "<text class=\"displacy-token\" fill=\"currentColor\" text-anchor=\"middle\" y=\"309.5\">\n",
       "    <tspan class=\"displacy-word\" fill=\"currentColor\" x=\"50\">Angry</tspan>\n",
       "    <tspan class=\"displacy-tag\" dy=\"2em\" fill=\"currentColor\" x=\"50\">ADJ</tspan>\n",
       "</text>\n",
       "\n",
       "<text class=\"displacy-token\" fill=\"currentColor\" text-anchor=\"middle\" y=\"309.5\">\n",
       "    <tspan class=\"displacy-word\" fill=\"currentColor\" x=\"225\">lazy</tspan>\n",
       "    <tspan class=\"displacy-tag\" dy=\"2em\" fill=\"currentColor\" x=\"225\">ADJ</tspan>\n",
       "</text>\n",
       "\n",
       "<text class=\"displacy-token\" fill=\"currentColor\" text-anchor=\"middle\" y=\"309.5\">\n",
       "    <tspan class=\"displacy-word\" fill=\"currentColor\" x=\"400\">dog</tspan>\n",
       "    <tspan class=\"displacy-tag\" dy=\"2em\" fill=\"currentColor\" x=\"400\">NOUN</tspan>\n",
       "</text>\n",
       "\n",
       "<text class=\"displacy-token\" fill=\"currentColor\" text-anchor=\"middle\" y=\"309.5\">\n",
       "    <tspan class=\"displacy-word\" fill=\"currentColor\" x=\"575\">boats</tspan>\n",
       "    <tspan class=\"displacy-tag\" dy=\"2em\" fill=\"currentColor\" x=\"575\">NOUN</tspan>\n",
       "</text>\n",
       "\n",
       "<text class=\"displacy-token\" fill=\"currentColor\" text-anchor=\"middle\" y=\"309.5\">\n",
       "    <tspan class=\"displacy-word\" fill=\"currentColor\" x=\"750\">bark</tspan>\n",
       "    <tspan class=\"displacy-tag\" dy=\"2em\" fill=\"currentColor\" x=\"750\">NOUN</tspan>\n",
       "</text>\n",
       "\n",
       "<text class=\"displacy-token\" fill=\"currentColor\" text-anchor=\"middle\" y=\"309.5\">\n",
       "    <tspan class=\"displacy-word\" fill=\"currentColor\" x=\"925\">because</tspan>\n",
       "    <tspan class=\"displacy-tag\" dy=\"2em\" fill=\"currentColor\" x=\"925\">SCONJ</tspan>\n",
       "</text>\n",
       "\n",
       "<text class=\"displacy-token\" fill=\"currentColor\" text-anchor=\"middle\" y=\"309.5\">\n",
       "    <tspan class=\"displacy-word\" fill=\"currentColor\" x=\"1100\">I</tspan>\n",
       "    <tspan class=\"displacy-tag\" dy=\"2em\" fill=\"currentColor\" x=\"1100\">PRON</tspan>\n",
       "</text>\n",
       "\n",
       "<text class=\"displacy-token\" fill=\"currentColor\" text-anchor=\"middle\" y=\"309.5\">\n",
       "    <tspan class=\"displacy-word\" fill=\"currentColor\" x=\"1275\">feel</tspan>\n",
       "    <tspan class=\"displacy-tag\" dy=\"2em\" fill=\"currentColor\" x=\"1275\">VERB</tspan>\n",
       "</text>\n",
       "\n",
       "<text class=\"displacy-token\" fill=\"currentColor\" text-anchor=\"middle\" y=\"309.5\">\n",
       "    <tspan class=\"displacy-word\" fill=\"currentColor\" x=\"1450\">sad</tspan>\n",
       "    <tspan class=\"displacy-tag\" dy=\"2em\" fill=\"currentColor\" x=\"1450\">ADJ</tspan>\n",
       "</text>\n",
       "\n",
       "<text class=\"displacy-token\" fill=\"currentColor\" text-anchor=\"middle\" y=\"309.5\">\n",
       "    <tspan class=\"displacy-word\" fill=\"currentColor\" x=\"1625\">and</tspan>\n",
       "    <tspan class=\"displacy-tag\" dy=\"2em\" fill=\"currentColor\" x=\"1625\">CCONJ</tspan>\n",
       "</text>\n",
       "\n",
       "<text class=\"displacy-token\" fill=\"currentColor\" text-anchor=\"middle\" y=\"309.5\">\n",
       "    <tspan class=\"displacy-word\" fill=\"currentColor\" x=\"1800\">Mom</tspan>\n",
       "    <tspan class=\"displacy-tag\" dy=\"2em\" fill=\"currentColor\" x=\"1800\">NOUN</tspan>\n",
       "</text>\n",
       "\n",
       "<text class=\"displacy-token\" fill=\"currentColor\" text-anchor=\"middle\" y=\"309.5\">\n",
       "    <tspan class=\"displacy-word\" fill=\"currentColor\" x=\"1975\">is</tspan>\n",
       "    <tspan class=\"displacy-tag\" dy=\"2em\" fill=\"currentColor\" x=\"1975\">AUX</tspan>\n",
       "</text>\n",
       "\n",
       "<text class=\"displacy-token\" fill=\"currentColor\" text-anchor=\"middle\" y=\"309.5\">\n",
       "    <tspan class=\"displacy-word\" fill=\"currentColor\" x=\"2150\">bored.</tspan>\n",
       "    <tspan class=\"displacy-tag\" dy=\"2em\" fill=\"currentColor\" x=\"2150\">ADJ</tspan>\n",
       "</text>\n",
       "\n",
       "<text class=\"displacy-token\" fill=\"currentColor\" text-anchor=\"middle\" y=\"309.5\">\n",
       "    <tspan class=\"displacy-word\" fill=\"currentColor\" x=\"2325\">Rain</tspan>\n",
       "    <tspan class=\"displacy-tag\" dy=\"2em\" fill=\"currentColor\" x=\"2325\">NOUN</tspan>\n",
       "</text>\n",
       "\n",
       "<text class=\"displacy-token\" fill=\"currentColor\" text-anchor=\"middle\" y=\"309.5\">\n",
       "    <tspan class=\"displacy-word\" fill=\"currentColor\" x=\"2500\">is</tspan>\n",
       "    <tspan class=\"displacy-tag\" dy=\"2em\" fill=\"currentColor\" x=\"2500\">AUX</tspan>\n",
       "</text>\n",
       "\n",
       "<text class=\"displacy-token\" fill=\"currentColor\" text-anchor=\"middle\" y=\"309.5\">\n",
       "    <tspan class=\"displacy-word\" fill=\"currentColor\" x=\"2675\">falling</tspan>\n",
       "    <tspan class=\"displacy-tag\" dy=\"2em\" fill=\"currentColor\" x=\"2675\">VERB</tspan>\n",
       "</text>\n",
       "\n",
       "<text class=\"displacy-token\" fill=\"currentColor\" text-anchor=\"middle\" y=\"309.5\">\n",
       "    <tspan class=\"displacy-word\" fill=\"currentColor\" x=\"2850\">stupidly.</tspan>\n",
       "    <tspan class=\"displacy-tag\" dy=\"2em\" fill=\"currentColor\" x=\"2850\">ADV</tspan>\n",
       "</text>\n",
       "\n",
       "<g class=\"displacy-arrow\">\n",
       "    <path class=\"displacy-arc\" id=\"arrow-450c76c450704b139a756e7a2dfdfb4b-0-0\" stroke-width=\"2px\" d=\"M70,264.5 C70,89.5 395.0,89.5 395.0,264.5\" fill=\"none\" stroke=\"currentColor\"/>\n",
       "    <text dy=\"1.25em\" style=\"font-size: 0.8em; letter-spacing: 1px\">\n",
       "        <textPath xlink:href=\"#arrow-450c76c450704b139a756e7a2dfdfb4b-0-0\" class=\"displacy-label\" startOffset=\"50%\" side=\"left\" fill=\"currentColor\" text-anchor=\"middle\">amod</textPath>\n",
       "    </text>\n",
       "    <path class=\"displacy-arrowhead\" d=\"M70,266.5 L62,254.5 78,254.5\" fill=\"currentColor\"/>\n",
       "</g>\n",
       "\n",
       "<g class=\"displacy-arrow\">\n",
       "    <path class=\"displacy-arc\" id=\"arrow-450c76c450704b139a756e7a2dfdfb4b-0-1\" stroke-width=\"2px\" d=\"M245,264.5 C245,177.0 390.0,177.0 390.0,264.5\" fill=\"none\" stroke=\"currentColor\"/>\n",
       "    <text dy=\"1.25em\" style=\"font-size: 0.8em; letter-spacing: 1px\">\n",
       "        <textPath xlink:href=\"#arrow-450c76c450704b139a756e7a2dfdfb4b-0-1\" class=\"displacy-label\" startOffset=\"50%\" side=\"left\" fill=\"currentColor\" text-anchor=\"middle\">amod</textPath>\n",
       "    </text>\n",
       "    <path class=\"displacy-arrowhead\" d=\"M245,266.5 L237,254.5 253,254.5\" fill=\"currentColor\"/>\n",
       "</g>\n",
       "\n",
       "<g class=\"displacy-arrow\">\n",
       "    <path class=\"displacy-arc\" id=\"arrow-450c76c450704b139a756e7a2dfdfb4b-0-2\" stroke-width=\"2px\" d=\"M420,264.5 C420,177.0 565.0,177.0 565.0,264.5\" fill=\"none\" stroke=\"currentColor\"/>\n",
       "    <text dy=\"1.25em\" style=\"font-size: 0.8em; letter-spacing: 1px\">\n",
       "        <textPath xlink:href=\"#arrow-450c76c450704b139a756e7a2dfdfb4b-0-2\" class=\"displacy-label\" startOffset=\"50%\" side=\"left\" fill=\"currentColor\" text-anchor=\"middle\">nsubj</textPath>\n",
       "    </text>\n",
       "    <path class=\"displacy-arrowhead\" d=\"M420,266.5 L412,254.5 428,254.5\" fill=\"currentColor\"/>\n",
       "</g>\n",
       "\n",
       "<g class=\"displacy-arrow\">\n",
       "    <path class=\"displacy-arc\" id=\"arrow-450c76c450704b139a756e7a2dfdfb4b-0-3\" stroke-width=\"2px\" d=\"M595,264.5 C595,177.0 740.0,177.0 740.0,264.5\" fill=\"none\" stroke=\"currentColor\"/>\n",
       "    <text dy=\"1.25em\" style=\"font-size: 0.8em; letter-spacing: 1px\">\n",
       "        <textPath xlink:href=\"#arrow-450c76c450704b139a756e7a2dfdfb4b-0-3\" class=\"displacy-label\" startOffset=\"50%\" side=\"left\" fill=\"currentColor\" text-anchor=\"middle\">compound</textPath>\n",
       "    </text>\n",
       "    <path class=\"displacy-arrowhead\" d=\"M595,266.5 L587,254.5 603,254.5\" fill=\"currentColor\"/>\n",
       "</g>\n",
       "\n",
       "<g class=\"displacy-arrow\">\n",
       "    <path class=\"displacy-arc\" id=\"arrow-450c76c450704b139a756e7a2dfdfb4b-0-4\" stroke-width=\"2px\" d=\"M945,264.5 C945,89.5 1270.0,89.5 1270.0,264.5\" fill=\"none\" stroke=\"currentColor\"/>\n",
       "    <text dy=\"1.25em\" style=\"font-size: 0.8em; letter-spacing: 1px\">\n",
       "        <textPath xlink:href=\"#arrow-450c76c450704b139a756e7a2dfdfb4b-0-4\" class=\"displacy-label\" startOffset=\"50%\" side=\"left\" fill=\"currentColor\" text-anchor=\"middle\">mark</textPath>\n",
       "    </text>\n",
       "    <path class=\"displacy-arrowhead\" d=\"M945,266.5 L937,254.5 953,254.5\" fill=\"currentColor\"/>\n",
       "</g>\n",
       "\n",
       "<g class=\"displacy-arrow\">\n",
       "    <path class=\"displacy-arc\" id=\"arrow-450c76c450704b139a756e7a2dfdfb4b-0-5\" stroke-width=\"2px\" d=\"M1120,264.5 C1120,177.0 1265.0,177.0 1265.0,264.5\" fill=\"none\" stroke=\"currentColor\"/>\n",
       "    <text dy=\"1.25em\" style=\"font-size: 0.8em; letter-spacing: 1px\">\n",
       "        <textPath xlink:href=\"#arrow-450c76c450704b139a756e7a2dfdfb4b-0-5\" class=\"displacy-label\" startOffset=\"50%\" side=\"left\" fill=\"currentColor\" text-anchor=\"middle\">nsubj</textPath>\n",
       "    </text>\n",
       "    <path class=\"displacy-arrowhead\" d=\"M1120,266.5 L1112,254.5 1128,254.5\" fill=\"currentColor\"/>\n",
       "</g>\n",
       "\n",
       "<g class=\"displacy-arrow\">\n",
       "    <path class=\"displacy-arc\" id=\"arrow-450c76c450704b139a756e7a2dfdfb4b-0-6\" stroke-width=\"2px\" d=\"M770,264.5 C770,2.0 1275.0,2.0 1275.0,264.5\" fill=\"none\" stroke=\"currentColor\"/>\n",
       "    <text dy=\"1.25em\" style=\"font-size: 0.8em; letter-spacing: 1px\">\n",
       "        <textPath xlink:href=\"#arrow-450c76c450704b139a756e7a2dfdfb4b-0-6\" class=\"displacy-label\" startOffset=\"50%\" side=\"left\" fill=\"currentColor\" text-anchor=\"middle\">advcl</textPath>\n",
       "    </text>\n",
       "    <path class=\"displacy-arrowhead\" d=\"M1275.0,266.5 L1283.0,254.5 1267.0,254.5\" fill=\"currentColor\"/>\n",
       "</g>\n",
       "\n",
       "<g class=\"displacy-arrow\">\n",
       "    <path class=\"displacy-arc\" id=\"arrow-450c76c450704b139a756e7a2dfdfb4b-0-7\" stroke-width=\"2px\" d=\"M1295,264.5 C1295,177.0 1440.0,177.0 1440.0,264.5\" fill=\"none\" stroke=\"currentColor\"/>\n",
       "    <text dy=\"1.25em\" style=\"font-size: 0.8em; letter-spacing: 1px\">\n",
       "        <textPath xlink:href=\"#arrow-450c76c450704b139a756e7a2dfdfb4b-0-7\" class=\"displacy-label\" startOffset=\"50%\" side=\"left\" fill=\"currentColor\" text-anchor=\"middle\">acomp</textPath>\n",
       "    </text>\n",
       "    <path class=\"displacy-arrowhead\" d=\"M1440.0,266.5 L1448.0,254.5 1432.0,254.5\" fill=\"currentColor\"/>\n",
       "</g>\n",
       "\n",
       "<g class=\"displacy-arrow\">\n",
       "    <path class=\"displacy-arc\" id=\"arrow-450c76c450704b139a756e7a2dfdfb4b-0-8\" stroke-width=\"2px\" d=\"M1295,264.5 C1295,89.5 1620.0,89.5 1620.0,264.5\" fill=\"none\" stroke=\"currentColor\"/>\n",
       "    <text dy=\"1.25em\" style=\"font-size: 0.8em; letter-spacing: 1px\">\n",
       "        <textPath xlink:href=\"#arrow-450c76c450704b139a756e7a2dfdfb4b-0-8\" class=\"displacy-label\" startOffset=\"50%\" side=\"left\" fill=\"currentColor\" text-anchor=\"middle\">cc</textPath>\n",
       "    </text>\n",
       "    <path class=\"displacy-arrowhead\" d=\"M1620.0,266.5 L1628.0,254.5 1612.0,254.5\" fill=\"currentColor\"/>\n",
       "</g>\n",
       "\n",
       "<g class=\"displacy-arrow\">\n",
       "    <path class=\"displacy-arc\" id=\"arrow-450c76c450704b139a756e7a2dfdfb4b-0-9\" stroke-width=\"2px\" d=\"M1820,264.5 C1820,177.0 1965.0,177.0 1965.0,264.5\" fill=\"none\" stroke=\"currentColor\"/>\n",
       "    <text dy=\"1.25em\" style=\"font-size: 0.8em; letter-spacing: 1px\">\n",
       "        <textPath xlink:href=\"#arrow-450c76c450704b139a756e7a2dfdfb4b-0-9\" class=\"displacy-label\" startOffset=\"50%\" side=\"left\" fill=\"currentColor\" text-anchor=\"middle\">nsubj</textPath>\n",
       "    </text>\n",
       "    <path class=\"displacy-arrowhead\" d=\"M1820,266.5 L1812,254.5 1828,254.5\" fill=\"currentColor\"/>\n",
       "</g>\n",
       "\n",
       "<g class=\"displacy-arrow\">\n",
       "    <path class=\"displacy-arc\" id=\"arrow-450c76c450704b139a756e7a2dfdfb4b-0-10\" stroke-width=\"2px\" d=\"M1295,264.5 C1295,2.0 1975.0,2.0 1975.0,264.5\" fill=\"none\" stroke=\"currentColor\"/>\n",
       "    <text dy=\"1.25em\" style=\"font-size: 0.8em; letter-spacing: 1px\">\n",
       "        <textPath xlink:href=\"#arrow-450c76c450704b139a756e7a2dfdfb4b-0-10\" class=\"displacy-label\" startOffset=\"50%\" side=\"left\" fill=\"currentColor\" text-anchor=\"middle\">conj</textPath>\n",
       "    </text>\n",
       "    <path class=\"displacy-arrowhead\" d=\"M1975.0,266.5 L1983.0,254.5 1967.0,254.5\" fill=\"currentColor\"/>\n",
       "</g>\n",
       "\n",
       "<g class=\"displacy-arrow\">\n",
       "    <path class=\"displacy-arc\" id=\"arrow-450c76c450704b139a756e7a2dfdfb4b-0-11\" stroke-width=\"2px\" d=\"M1995,264.5 C1995,177.0 2140.0,177.0 2140.0,264.5\" fill=\"none\" stroke=\"currentColor\"/>\n",
       "    <text dy=\"1.25em\" style=\"font-size: 0.8em; letter-spacing: 1px\">\n",
       "        <textPath xlink:href=\"#arrow-450c76c450704b139a756e7a2dfdfb4b-0-11\" class=\"displacy-label\" startOffset=\"50%\" side=\"left\" fill=\"currentColor\" text-anchor=\"middle\">acomp</textPath>\n",
       "    </text>\n",
       "    <path class=\"displacy-arrowhead\" d=\"M2140.0,266.5 L2148.0,254.5 2132.0,254.5\" fill=\"currentColor\"/>\n",
       "</g>\n",
       "\n",
       "<g class=\"displacy-arrow\">\n",
       "    <path class=\"displacy-arc\" id=\"arrow-450c76c450704b139a756e7a2dfdfb4b-0-12\" stroke-width=\"2px\" d=\"M2345,264.5 C2345,89.5 2670.0,89.5 2670.0,264.5\" fill=\"none\" stroke=\"currentColor\"/>\n",
       "    <text dy=\"1.25em\" style=\"font-size: 0.8em; letter-spacing: 1px\">\n",
       "        <textPath xlink:href=\"#arrow-450c76c450704b139a756e7a2dfdfb4b-0-12\" class=\"displacy-label\" startOffset=\"50%\" side=\"left\" fill=\"currentColor\" text-anchor=\"middle\">nsubj</textPath>\n",
       "    </text>\n",
       "    <path class=\"displacy-arrowhead\" d=\"M2345,266.5 L2337,254.5 2353,254.5\" fill=\"currentColor\"/>\n",
       "</g>\n",
       "\n",
       "<g class=\"displacy-arrow\">\n",
       "    <path class=\"displacy-arc\" id=\"arrow-450c76c450704b139a756e7a2dfdfb4b-0-13\" stroke-width=\"2px\" d=\"M2520,264.5 C2520,177.0 2665.0,177.0 2665.0,264.5\" fill=\"none\" stroke=\"currentColor\"/>\n",
       "    <text dy=\"1.25em\" style=\"font-size: 0.8em; letter-spacing: 1px\">\n",
       "        <textPath xlink:href=\"#arrow-450c76c450704b139a756e7a2dfdfb4b-0-13\" class=\"displacy-label\" startOffset=\"50%\" side=\"left\" fill=\"currentColor\" text-anchor=\"middle\">aux</textPath>\n",
       "    </text>\n",
       "    <path class=\"displacy-arrowhead\" d=\"M2520,266.5 L2512,254.5 2528,254.5\" fill=\"currentColor\"/>\n",
       "</g>\n",
       "\n",
       "<g class=\"displacy-arrow\">\n",
       "    <path class=\"displacy-arc\" id=\"arrow-450c76c450704b139a756e7a2dfdfb4b-0-14\" stroke-width=\"2px\" d=\"M2695,264.5 C2695,177.0 2840.0,177.0 2840.0,264.5\" fill=\"none\" stroke=\"currentColor\"/>\n",
       "    <text dy=\"1.25em\" style=\"font-size: 0.8em; letter-spacing: 1px\">\n",
       "        <textPath xlink:href=\"#arrow-450c76c450704b139a756e7a2dfdfb4b-0-14\" class=\"displacy-label\" startOffset=\"50%\" side=\"left\" fill=\"currentColor\" text-anchor=\"middle\">advmod</textPath>\n",
       "    </text>\n",
       "    <path class=\"displacy-arrowhead\" d=\"M2840.0,266.5 L2848.0,254.5 2832.0,254.5\" fill=\"currentColor\"/>\n",
       "</g>\n",
       "</svg></span>"
      ],
      "text/plain": [
       "<IPython.core.display.HTML object>"
      ]
     },
     "metadata": {},
     "output_type": "display_data"
    }
   ],
   "source": [
    "displacy.render(emot, style='dep')"
   ]
  },
  {
   "cell_type": "code",
   "execution_count": 13,
   "id": "8e5e86c1",
   "metadata": {},
   "outputs": [],
   "source": [
    "def get_is_caffeinated(doc):\n",
    "    return any(ent.label_ == 'CAFFEINE' for ent in doc.ents)\n",
    "# property extensions\n",
    "Doc.set_extension('is_caffeinated', getter=get_is_caffeinated)"
   ]
  },
  {
   "cell_type": "code",
   "execution_count": 14,
   "id": "1b796589",
   "metadata": {},
   "outputs": [
    {
     "name": "stdout",
     "output_type": "stream",
     "text": [
      "True\n",
      "False\n"
     ]
    }
   ],
   "source": [
    "print(caff._.is_caffeinated)\n",
    "print(emot._.is_caffeinated)"
   ]
  },
  {
   "cell_type": "code",
   "execution_count": 15,
   "id": "a8035ebe",
   "metadata": {},
   "outputs": [],
   "source": [
    "def get_emotion_count(doc, emotion):\n",
    "    return sum(tok._.emotion == emotion for tok in doc)\n",
    "# method extensions\n",
    "Doc.set_extension('emotion_count', method=get_emotion_count)\n",
    "Span.set_extension('emotion_count', method=get_emotion_count)"
   ]
  },
  {
   "cell_type": "code",
   "execution_count": 16,
   "id": "ff74501f",
   "metadata": {},
   "outputs": [
    {
     "name": "stdout",
     "output_type": "stream",
     "text": [
      "2\n",
      "0\n"
     ]
    }
   ],
   "source": [
    "print(emot._.emotion_count('angry'))\n",
    "print(emot[5:]._.emotion_count('angry'))"
   ]
  },
  {
   "cell_type": "markdown",
   "id": "783ba491",
   "metadata": {},
   "source": [
    "## Scaling and performance"
   ]
  },
  {
   "cell_type": "markdown",
   "id": "5f5f0e25",
   "metadata": {},
   "source": [
    "### nlp.pipe for efficiency and adding metadata"
   ]
  },
  {
   "cell_type": "code",
   "execution_count": 17,
   "id": "ffadafa7",
   "metadata": {},
   "outputs": [
    {
     "name": "stdout",
     "output_type": "stream",
     "text": [
      "Foo\n",
      "Bar\n",
      "Baz\n"
     ]
    }
   ],
   "source": [
    "# earlier we saw nlp.pipe at work\n",
    "# we can do other things with it, like adding metadata to Docs\n",
    "Doc.set_extension('album', default=None)\n",
    "Doc.set_extension('year', default=None)\n",
    "songs = [\n",
    "    ('in the land of foo', {'album': 'Foo', 'year': 1000}),\n",
    "    ('an ancient warrior of bar', {'album': 'Bar', 'year': 2000}),\n",
    "    ('deadly orks of Baz', {'album': 'Baz', 'year': 3000})\n",
    "]\n",
    "\n",
    "for song, ctxt in nlp.pipe(songs, as_tuples=True):\n",
    "    song._.year = ctxt['year']\n",
    "    song._.album = ctxt['album']\n",
    "    print(song._.album)"
   ]
  },
  {
   "cell_type": "markdown",
   "id": "8477af36",
   "metadata": {},
   "source": [
    "### speeding processing with nlp.make_doc and nlp.disable"
   ]
  },
  {
   "cell_type": "code",
   "execution_count": 18,
   "id": "1ee0ac38",
   "metadata": {},
   "outputs": [
    {
     "name": "stdout",
     "output_type": "stream",
     "text": [
      "foo\n",
      "bar\n",
      "baz\n",
      "''\n"
     ]
    }
   ],
   "source": [
    "# nlp.make_doc just tokenizes the document, nothing else\n",
    "toks = nlp.make_doc('foo bar baz')\n",
    "for t in toks:\n",
    "    print(t.text)\n",
    "\n",
    "try:\n",
    "    print(repr(toks[0].lemma_))\n",
    "    # no lemmatization because only tokenization was done\n",
    "except Exception as ex:\n",
    "    print(ex)"
   ]
  },
  {
   "cell_type": "code",
   "execution_count": 19,
   "id": "1c6f9722",
   "metadata": {},
   "outputs": [
    {
     "name": "stdout",
     "output_type": "stream",
     "text": [
      "with caffeinator and emotionizer disabled\n",
      "False\n",
      "0\n",
      "with caffeinator and emotionizer enabled\n",
      "True\n",
      "[None, None, None, None, 'angry', None, 'angry', None]\n",
      "with only caffeinator enabled\n",
      "True\n",
      "[None, None, None, None, None, None, None, None]\n"
     ]
    }
   ],
   "source": [
    "text = \"He drinks coffee when he's angry.\"\n",
    "# runs all pipes except the caffeinator and the emotionizer\n",
    "# while inside the `with` block\n",
    "with nlp.select_pipes(disable=['caffeinator', 'emotionizer']):\n",
    "    doc = nlp(text)\n",
    "    \n",
    "print('with caffeinator and emotionizer disabled')\n",
    "print(doc._.is_caffeinated)\n",
    "print(doc._.emotion_count('angry'))\n",
    "print('with caffeinator and emotionizer enabled')\n",
    "doc = nlp(text)\n",
    "print(doc._.is_caffeinated)\n",
    "print([x._.emotion for x in doc])\n",
    "print('with only caffeinator enabled')\n",
    "with nlp.select_pipes(enable=['caffeinator']):\n",
    "    doc = nlp(text)\n",
    "print(doc._.is_caffeinated)\n",
    "print([x._.emotion for x in doc])"
   ]
  }
 ],
 "metadata": {
  "kernelspec": {
   "display_name": "Python 3 (ipykernel)",
   "language": "python",
   "name": "python3"
  },
  "language_info": {
   "codemirror_mode": {
    "name": "ipython",
    "version": 3
   },
   "file_extension": ".py",
   "mimetype": "text/x-python",
   "name": "python",
   "nbconvert_exporter": "python",
   "pygments_lexer": "ipython3",
   "version": "3.9.6"
  }
 },
 "nbformat": 4,
 "nbformat_minor": 5
}
