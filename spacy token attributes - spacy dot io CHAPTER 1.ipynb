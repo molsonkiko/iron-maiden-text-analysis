{
 "cells": [
  {
   "cell_type": "code",
   "execution_count": 1,
   "id": "5a0feda1",
   "metadata": {},
   "outputs": [],
   "source": [
    "# https://course.spacy.io/en/chapter1\n",
    "import spacy\n",
    "from spacy.matcher import Matcher\n",
    "nlp_s = spacy.load('en_core_web_sm')\n",
    "nlp = spacy.blank(\"en\")\n",
    "matcher = Matcher(nlp_s.vocab)"
   ]
  },
  {
   "cell_type": "markdown",
   "id": "e2284f91",
   "metadata": {},
   "source": [
    "### token properties"
   ]
  },
  {
   "cell_type": "code",
   "execution_count": 2,
   "id": "08b1e994",
   "metadata": {},
   "outputs": [
    {
     "name": "stdout",
     "output_type": "stream",
     "text": [
      "Percentage found: 60\n",
      "Percentage found: 4\n"
     ]
    }
   ],
   "source": [
    "# Process the text\n",
    "doc = nlp(\n",
    "    \"In 1990, more than 60% of people in East Asia were in extreme poverty. \"\n",
    "    \"Now less than 4% are.\"\n",
    ")\n",
    "\n",
    "# Iterate over the tokens in the doc\n",
    "for token in doc:\n",
    "    # Check if the token resembles a number\n",
    "    if token.like_num and token.i < len(doc) - 1:\n",
    "        # Get the next token in the document\n",
    "        next_token = doc[token.i + 1]\n",
    "        # Check if the next token's text equals \"%\"\n",
    "        if next_token.text == \"%\":\n",
    "            print(\"Percentage found:\", token.text)"
   ]
  },
  {
   "cell_type": "markdown",
   "id": "67de5ce5",
   "metadata": {},
   "source": [
    "### Part-of-speech (POS) tagging"
   ]
  },
  {
   "cell_type": "code",
   "execution_count": 3,
   "id": "38fa2aba",
   "metadata": {},
   "outputs": [
    {
     "name": "stdout",
     "output_type": "stream",
     "text": [
      "('She', 'PRON', 'nsubj', 'ate')\n",
      "('ate', 'VERB', 'ROOT', 'ate')\n",
      "('the', 'DET', 'det', 'pizza')\n",
      "('Dominos', 'PROPN', 'compound', 'pizza')\n",
      "('pizza', 'NOUN', 'dobj', 'ate')\n",
      "('slowly', 'ADV', 'advmod', 'ate')\n",
      "('while', 'SCONJ', 'mark', 'watched')\n",
      "('her', 'PRON', 'poss', 'dog')\n",
      "('dog', 'NOUN', 'nsubj', 'watched')\n",
      "('watched', 'VERB', 'advcl', 'ate')\n"
     ]
    }
   ],
   "source": [
    "doc = nlp_s(\"She ate the Dominos pizza slowly while her dog watched\")\n",
    "metadata = [\n",
    "    (token.text, token.pos_, token.dep_, token.head.text)\n",
    "    # get the text\n",
    "    # the predicted part-of-speech tag (pos_)\n",
    "    # its role in the sentence (dep_)\n",
    "    # and the verbs that refer to each noun (or itself if it's a verb)\n",
    "    for token in doc\n",
    "]\n",
    "# Iterate over the tokens\n",
    "for dat in metadata:\n",
    "    print(dat)"
   ]
  },
  {
   "cell_type": "code",
   "execution_count": 4,
   "id": "854406a2",
   "metadata": {},
   "outputs": [
    {
     "name": "stdout",
     "output_type": "stream",
     "text": [
      "('She', 'pronoun')\n",
      "('ate', 'verb')\n",
      "('the', 'determiner')\n",
      "('Dominos', 'proper noun')\n",
      "('pizza', 'noun')\n",
      "('slowly', 'adverb')\n",
      "('while', 'subordinating conjunction')\n",
      "('her', 'pronoun')\n",
      "('dog', 'noun')\n",
      "('watched', 'verb')\n"
     ]
    }
   ],
   "source": [
    "_ = [print((x[0], spacy.explain(x[1]))) for x in metadata]\n",
    "# spacy.explain describes what a part of speech abbreviation stands for"
   ]
  },
  {
   "cell_type": "markdown",
   "id": "5aba1a1f",
   "metadata": {},
   "source": [
    "### Matcher: for assigning labels to recurrent patterns"
   ]
  },
  {
   "cell_type": "code",
   "execution_count": 5,
   "id": "aad87732",
   "metadata": {},
   "outputs": [
    {
     "name": "stdout",
     "output_type": "stream",
     "text": [
      "2018 FIFA World Cup:\n"
     ]
    }
   ],
   "source": [
    "# using the matcher to match patterns\n",
    "# the LOWER attr means that the lower-case version of text should match\n",
    "fifa_pattern = [\n",
    "    {\"IS_DIGIT\": True},\n",
    "    {\"LOWER\": \"fifa\"},\n",
    "    {\"LOWER\": \"world\"},\n",
    "    {\"LOWER\": \"cup\"},\n",
    "    {\"IS_PUNCT\": True}\n",
    "]\n",
    "\n",
    "matcher.add('FIFA_PAT', [fifa_pattern])\n",
    "\n",
    "doc = nlp_s(\"2018 FIFA World Cup: France won!\")\n",
    "\n",
    "matches = matcher(doc)\n",
    "\n",
    "for match_id, start, end in matches:\n",
    "    # Get the matched span\n",
    "    matched_span = doc[start:end]\n",
    "    print(matched_span.text)"
   ]
  },
  {
   "cell_type": "code",
   "execution_count": 6,
   "id": "4ae3c656",
   "metadata": {},
   "outputs": [
    {
     "name": "stdout",
     "output_type": "stream",
     "text": [
      "times dogs\n",
      "time my oven\n",
      "time a bird\n"
     ]
    }
   ],
   "source": [
    "# using the matcher to match multiple attributes of a token\n",
    "timer_pattern = [\n",
    "    {'LEMMA': 'time', 'POS': 'VERB'}, # to avoid time as a noun\n",
    "    {'POS': 'DET', 'OP': '?'}, # match 0 or 1 instances of a determiner\n",
    "    {'POS': 'PRON', 'OP': '?'}, # alternately match an optional pronoun\n",
    "    {'POS': 'NOUN'}\n",
    "]\n",
    "# other quantifiers:\n",
    "# {\"OP\": \"!\"}   Negation: match 0 times\n",
    "# {\"OP\": \"?\"}   Optional: match 0 or 1 times\n",
    "# {\"OP\": \"+\"}   Match 1 or more times\n",
    "# {\"OP\": \"*\"}   Match 0 or more times\n",
    "\n",
    "matcher.add('TIMER_PAT', [timer_pattern])\n",
    "\n",
    "doc = nlp_s(('She times dogs in her time machine. '\n",
    "            'I time my oven. '\n",
    "            'He will time a bird.'))\n",
    "\n",
    "matches = matcher(doc)\n",
    "\n",
    "for match_id, start, end in matches:\n",
    "    matched_span = doc[start:end]\n",
    "    print(matched_span.text)"
   ]
  }
 ],
 "metadata": {
  "kernelspec": {
   "display_name": "Python 3 (ipykernel)",
   "language": "python",
   "name": "python3"
  },
  "language_info": {
   "codemirror_mode": {
    "name": "ipython",
    "version": 3
   },
   "file_extension": ".py",
   "mimetype": "text/x-python",
   "name": "python",
   "nbconvert_exporter": "python",
   "pygments_lexer": "ipython3",
   "version": "3.9.6"
  }
 },
 "nbformat": 4,
 "nbformat_minor": 5
}
